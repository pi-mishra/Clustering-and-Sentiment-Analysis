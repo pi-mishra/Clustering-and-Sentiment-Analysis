{
 "cells": [
  {
   "cell_type": "markdown",
   "metadata": {},
   "source": [
    " # Project Name - Zomato Restaurant Clustering and Sentiment Analysis\n",
    "\n",
    "Project Type - UnSupervised Machine Learning"
   ]
  },
  {
   "cell_type": "markdown",
   "metadata": {},
   "source": [
    "Data Description:\n",
    "Restaurants Data\n",
    "* Name - Name of the restaurants\n",
    "* Links - URL links of restaurants\n",
    "* Cost - Per person estimated cost of dining\n",
    "* Collection- Tagging of restaurants w.r.t Zomato categories\n",
    "* Cuisines- Cuisines served by restaurants\n",
    "* Timings - Restaurants timings\n",
    "\n",
    "Review Data\n",
    "* Reviewer - Name of the reviewer\n",
    "* review - Review text\n",
    "* Rating - Rating provided\n",
    "* MetaData - Reviewer metadata-No of reviews and followers\n",
    "* Time - Data and time of review\n",
    "* Pictures - No of pictures posted with review"
   ]
  },
  {
   "cell_type": "markdown",
   "metadata": {},
   "source": [
    "# Knowing the data "
   ]
  },
  {
   "cell_type": "code",
   "execution_count": 2,
   "metadata": {},
   "outputs": [],
   "source": [
    "# importing packages\n",
    "\n",
    "import pandas as pd \n",
    "import numpy as np \n",
    "import matplotlib as plt\n",
    "import seaborn as sns\n",
    "import warnings\n",
    "warnings.filterwarnings('ignore')"
   ]
  },
  {
   "cell_type": "code",
   "execution_count": 3,
   "metadata": {},
   "outputs": [],
   "source": [
    "# reading the datasets\n",
    "\n",
    "metadata = pd.read_csv(\"E:\\Machine learning projects\\Zomato Sentiment Analysis\\Zomato Restaurant names and Metadata (1).csv\")\n",
    "\n",
    "review = pd.read_csv(\"E:\\Machine learning projects\\Zomato Sentiment Analysis\\Zomato Restaurant reviews (1).csv\")"
   ]
  },
  {
   "cell_type": "markdown",
   "metadata": {},
   "source": [
    "## Metadata"
   ]
  },
  {
   "cell_type": "code",
   "execution_count": 4,
   "metadata": {},
   "outputs": [
    {
     "data": {
      "text/html": [
       "<div>\n",
       "<style scoped>\n",
       "    .dataframe tbody tr th:only-of-type {\n",
       "        vertical-align: middle;\n",
       "    }\n",
       "\n",
       "    .dataframe tbody tr th {\n",
       "        vertical-align: top;\n",
       "    }\n",
       "\n",
       "    .dataframe thead th {\n",
       "        text-align: right;\n",
       "    }\n",
       "</style>\n",
       "<table border=\"1\" class=\"dataframe\">\n",
       "  <thead>\n",
       "    <tr style=\"text-align: right;\">\n",
       "      <th></th>\n",
       "      <th>Name</th>\n",
       "      <th>Links</th>\n",
       "      <th>Cost</th>\n",
       "      <th>Collections</th>\n",
       "      <th>Cuisines</th>\n",
       "      <th>Timings</th>\n",
       "    </tr>\n",
       "  </thead>\n",
       "  <tbody>\n",
       "    <tr>\n",
       "      <th>0</th>\n",
       "      <td>Beyond Flavours</td>\n",
       "      <td>https://www.zomato.com/hyderabad/beyond-flavou...</td>\n",
       "      <td>800</td>\n",
       "      <td>Food Hygiene Rated Restaurants in Hyderabad, C...</td>\n",
       "      <td>Chinese, Continental, Kebab, European, South I...</td>\n",
       "      <td>12noon to 3:30pm, 6:30pm to 11:30pm (Mon-Sun)</td>\n",
       "    </tr>\n",
       "    <tr>\n",
       "      <th>1</th>\n",
       "      <td>Paradise</td>\n",
       "      <td>https://www.zomato.com/hyderabad/paradise-gach...</td>\n",
       "      <td>800</td>\n",
       "      <td>Hyderabad's Hottest</td>\n",
       "      <td>Biryani, North Indian, Chinese</td>\n",
       "      <td>11 AM to 11 PM</td>\n",
       "    </tr>\n",
       "    <tr>\n",
       "      <th>2</th>\n",
       "      <td>Flechazo</td>\n",
       "      <td>https://www.zomato.com/hyderabad/flechazo-gach...</td>\n",
       "      <td>1,300</td>\n",
       "      <td>Great Buffets, Hyderabad's Hottest</td>\n",
       "      <td>Asian, Mediterranean, North Indian, Desserts</td>\n",
       "      <td>11:30 AM to 4:30 PM, 6:30 PM to 11 PM</td>\n",
       "    </tr>\n",
       "    <tr>\n",
       "      <th>3</th>\n",
       "      <td>Shah Ghouse Hotel &amp; Restaurant</td>\n",
       "      <td>https://www.zomato.com/hyderabad/shah-ghouse-h...</td>\n",
       "      <td>800</td>\n",
       "      <td>Late Night Restaurants</td>\n",
       "      <td>Biryani, North Indian, Chinese, Seafood, Bever...</td>\n",
       "      <td>12 Noon to 2 AM</td>\n",
       "    </tr>\n",
       "    <tr>\n",
       "      <th>4</th>\n",
       "      <td>Over The Moon Brew Company</td>\n",
       "      <td>https://www.zomato.com/hyderabad/over-the-moon...</td>\n",
       "      <td>1,200</td>\n",
       "      <td>Best Bars &amp; Pubs, Food Hygiene Rated Restauran...</td>\n",
       "      <td>Asian, Continental, North Indian, Chinese, Med...</td>\n",
       "      <td>12noon to 11pm (Mon, Tue, Wed, Thu, Sun), 12no...</td>\n",
       "    </tr>\n",
       "  </tbody>\n",
       "</table>\n",
       "</div>"
      ],
      "text/plain": [
       "                             Name  \\\n",
       "0                 Beyond Flavours   \n",
       "1                        Paradise   \n",
       "2                        Flechazo   \n",
       "3  Shah Ghouse Hotel & Restaurant   \n",
       "4      Over The Moon Brew Company   \n",
       "\n",
       "                                               Links   Cost  \\\n",
       "0  https://www.zomato.com/hyderabad/beyond-flavou...    800   \n",
       "1  https://www.zomato.com/hyderabad/paradise-gach...    800   \n",
       "2  https://www.zomato.com/hyderabad/flechazo-gach...  1,300   \n",
       "3  https://www.zomato.com/hyderabad/shah-ghouse-h...    800   \n",
       "4  https://www.zomato.com/hyderabad/over-the-moon...  1,200   \n",
       "\n",
       "                                         Collections  \\\n",
       "0  Food Hygiene Rated Restaurants in Hyderabad, C...   \n",
       "1                                Hyderabad's Hottest   \n",
       "2                 Great Buffets, Hyderabad's Hottest   \n",
       "3                             Late Night Restaurants   \n",
       "4  Best Bars & Pubs, Food Hygiene Rated Restauran...   \n",
       "\n",
       "                                            Cuisines  \\\n",
       "0  Chinese, Continental, Kebab, European, South I...   \n",
       "1                     Biryani, North Indian, Chinese   \n",
       "2       Asian, Mediterranean, North Indian, Desserts   \n",
       "3  Biryani, North Indian, Chinese, Seafood, Bever...   \n",
       "4  Asian, Continental, North Indian, Chinese, Med...   \n",
       "\n",
       "                                             Timings  \n",
       "0      12noon to 3:30pm, 6:30pm to 11:30pm (Mon-Sun)  \n",
       "1                                     11 AM to 11 PM  \n",
       "2              11:30 AM to 4:30 PM, 6:30 PM to 11 PM  \n",
       "3                                    12 Noon to 2 AM  \n",
       "4  12noon to 11pm (Mon, Tue, Wed, Thu, Sun), 12no...  "
      ]
     },
     "execution_count": 4,
     "metadata": {},
     "output_type": "execute_result"
    }
   ],
   "source": [
    "# getting the first 5 rows of metadata\n",
    "\n",
    "metadata.head()"
   ]
  },
  {
   "cell_type": "code",
   "execution_count": 10,
   "metadata": {},
   "outputs": [
    {
     "name": "stdout",
     "output_type": "stream",
     "text": [
      "Number of rows : 105\n",
      "Number of columns : 6\n"
     ]
    }
   ],
   "source": [
    "# getting the rows and columns\n",
    "\n",
    "num_rows,num_column = metadata.shape\n",
    "print(f\"Number of rows : {num_rows}\")\n",
    "print(f\"Number of columns : {num_column}\")"
   ]
  },
  {
   "cell_type": "code",
   "execution_count": 11,
   "metadata": {},
   "outputs": [
    {
     "data": {
      "text/plain": [
       "Index(['Name', 'Links', 'Cost', 'Collections', 'Cuisines', 'Timings'], dtype='object')"
      ]
     },
     "execution_count": 11,
     "metadata": {},
     "output_type": "execute_result"
    }
   ],
   "source": [
    "# getting the column names\n",
    "\n",
    "metadata.columns"
   ]
  },
  {
   "cell_type": "code",
   "execution_count": 12,
   "metadata": {},
   "outputs": [
    {
     "name": "stdout",
     "output_type": "stream",
     "text": [
      "<class 'pandas.core.frame.DataFrame'>\n",
      "RangeIndex: 105 entries, 0 to 104\n",
      "Data columns (total 6 columns):\n",
      " #   Column       Non-Null Count  Dtype \n",
      "---  ------       --------------  ----- \n",
      " 0   Name         105 non-null    object\n",
      " 1   Links        105 non-null    object\n",
      " 2   Cost         105 non-null    object\n",
      " 3   Collections  51 non-null     object\n",
      " 4   Cuisines     105 non-null    object\n",
      " 5   Timings      104 non-null    object\n",
      "dtypes: object(6)\n",
      "memory usage: 5.0+ KB\n"
     ]
    }
   ],
   "source": [
    "# summary of metdata\n",
    "\n",
    "metadata.info()"
   ]
  },
  {
   "cell_type": "code",
   "execution_count": 13,
   "metadata": {},
   "outputs": [
    {
     "data": {
      "text/plain": [
       "Name            0\n",
       "Links           0\n",
       "Cost            0\n",
       "Collections    54\n",
       "Cuisines        0\n",
       "Timings         1\n",
       "dtype: int64"
      ]
     },
     "execution_count": 13,
     "metadata": {},
     "output_type": "execute_result"
    }
   ],
   "source": [
    "# getting the null value count\n",
    "\n",
    "metadata.isnull().sum()"
   ]
  },
  {
   "cell_type": "code",
   "execution_count": 15,
   "metadata": {},
   "outputs": [
    {
     "data": {
      "text/plain": [
       "0"
      ]
     },
     "execution_count": 15,
     "metadata": {},
     "output_type": "execute_result"
    }
   ],
   "source": [
    "# getting the duplicate count\n",
    "\n",
    "metadata.duplicated().sum()"
   ]
  },
  {
   "cell_type": "code",
   "execution_count": null,
   "metadata": {},
   "outputs": [],
   "source": []
  }
 ],
 "metadata": {
  "kernelspec": {
   "display_name": "base",
   "language": "python",
   "name": "python3"
  },
  "language_info": {
   "codemirror_mode": {
    "name": "ipython",
    "version": 3
   },
   "file_extension": ".py",
   "mimetype": "text/x-python",
   "name": "python",
   "nbconvert_exporter": "python",
   "pygments_lexer": "ipython3",
   "version": "3.9.12"
  }
 },
 "nbformat": 4,
 "nbformat_minor": 2
}
